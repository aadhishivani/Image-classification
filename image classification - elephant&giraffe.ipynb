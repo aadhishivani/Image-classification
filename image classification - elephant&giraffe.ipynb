{
 "cells": [
  {
   "cell_type": "code",
   "execution_count": 8,
   "metadata": {},
   "outputs": [],
   "source": [
    "#importing necessary libraries\n",
    "import pandas as pd\n",
    "import numpy as np\n",
    "import matplotlib.pyplot as plt\n",
    "from skimage.io import imread\n",
    "from skimage.transform import resize\n",
    "import os\n",
    "\n",
    "\n"
   ]
  },
  {
   "cell_type": "code",
   "execution_count": 9,
   "metadata": {},
   "outputs": [],
   "source": [
    "#importing images required for classification and making them into 1D for machine learning\n",
    "import sys\n",
    "import os\n",
    "import numpy as np\n",
    "datadir = sys.path.append('C:/Users/Shivani/Documents/verzeo')\n",
    "import giraffe\n",
    "import elephant\n",
    "\n",
    "target = []\n",
    "flat_data=[]\n",
    "images=[]\n",
    "\n",
    "#0 means a giraffe and 1 means an elephant\n",
    "CATEGORIES = ['giraffe', 'elephant']\n",
    "for category in CATEGORIES:\n",
    "    class_num = CATEGORIES.index(category)\n",
    "    path = os.path.join('C:/Users/Shivani/Documents/verzeo',category)\n",
    "    \n",
    "    for img in os.listdir(path):    \n",
    "        img_array= imread(os.path.join(path,img))\n",
    "        img_resize = resize(img_array,(150,150,3))\n",
    "        flat_data.append(img_resize.flatten())\n",
    "        images.append(img_resize)\n",
    "        target.append(class_num)\n",
    "\n",
    "flat_data = np.array(flat_data)\n",
    "target = np.array(target)\n",
    "images=np.array(images)"
   ]
  },
  {
   "cell_type": "code",
   "execution_count": 10,
   "metadata": {},
   "outputs": [
    {
     "data": {
      "text/html": [
       "<div>\n",
       "<style scoped>\n",
       "    .dataframe tbody tr th:only-of-type {\n",
       "        vertical-align: middle;\n",
       "    }\n",
       "\n",
       "    .dataframe tbody tr th {\n",
       "        vertical-align: top;\n",
       "    }\n",
       "\n",
       "    .dataframe thead th {\n",
       "        text-align: right;\n",
       "    }\n",
       "</style>\n",
       "<table border=\"1\" class=\"dataframe\">\n",
       "  <thead>\n",
       "    <tr style=\"text-align: right;\">\n",
       "      <th></th>\n",
       "      <th>0</th>\n",
       "      <th>1</th>\n",
       "      <th>2</th>\n",
       "      <th>3</th>\n",
       "      <th>4</th>\n",
       "      <th>5</th>\n",
       "      <th>6</th>\n",
       "      <th>7</th>\n",
       "      <th>8</th>\n",
       "      <th>9</th>\n",
       "      <th>...</th>\n",
       "      <th>67491</th>\n",
       "      <th>67492</th>\n",
       "      <th>67493</th>\n",
       "      <th>67494</th>\n",
       "      <th>67495</th>\n",
       "      <th>67496</th>\n",
       "      <th>67497</th>\n",
       "      <th>67498</th>\n",
       "      <th>67499</th>\n",
       "      <th>Target</th>\n",
       "    </tr>\n",
       "  </thead>\n",
       "  <tbody>\n",
       "    <tr>\n",
       "      <th>0</th>\n",
       "      <td>0.615686</td>\n",
       "      <td>0.658824</td>\n",
       "      <td>0.729412</td>\n",
       "      <td>0.615686</td>\n",
       "      <td>0.658824</td>\n",
       "      <td>0.729412</td>\n",
       "      <td>0.615686</td>\n",
       "      <td>0.658824</td>\n",
       "      <td>0.729412</td>\n",
       "      <td>0.619608</td>\n",
       "      <td>...</td>\n",
       "      <td>0.241137</td>\n",
       "      <td>0.272176</td>\n",
       "      <td>0.024157</td>\n",
       "      <td>0.298961</td>\n",
       "      <td>0.315314</td>\n",
       "      <td>0.030039</td>\n",
       "      <td>0.253863</td>\n",
       "      <td>0.278392</td>\n",
       "      <td>0.058157</td>\n",
       "      <td>0</td>\n",
       "    </tr>\n",
       "    <tr>\n",
       "      <th>1</th>\n",
       "      <td>0.885935</td>\n",
       "      <td>0.937255</td>\n",
       "      <td>0.988235</td>\n",
       "      <td>0.891647</td>\n",
       "      <td>0.945098</td>\n",
       "      <td>0.994118</td>\n",
       "      <td>0.894118</td>\n",
       "      <td>0.947059</td>\n",
       "      <td>0.996078</td>\n",
       "      <td>0.896850</td>\n",
       "      <td>...</td>\n",
       "      <td>0.732484</td>\n",
       "      <td>0.621830</td>\n",
       "      <td>0.203922</td>\n",
       "      <td>0.687216</td>\n",
       "      <td>0.560706</td>\n",
       "      <td>0.229922</td>\n",
       "      <td>0.684144</td>\n",
       "      <td>0.566667</td>\n",
       "      <td>0.240667</td>\n",
       "      <td>0</td>\n",
       "    </tr>\n",
       "    <tr>\n",
       "      <th>2</th>\n",
       "      <td>0.884967</td>\n",
       "      <td>0.894118</td>\n",
       "      <td>0.913725</td>\n",
       "      <td>0.882353</td>\n",
       "      <td>0.898039</td>\n",
       "      <td>0.913725</td>\n",
       "      <td>0.870588</td>\n",
       "      <td>0.900654</td>\n",
       "      <td>0.901961</td>\n",
       "      <td>0.864052</td>\n",
       "      <td>...</td>\n",
       "      <td>0.848366</td>\n",
       "      <td>0.712418</td>\n",
       "      <td>0.589542</td>\n",
       "      <td>0.844444</td>\n",
       "      <td>0.733333</td>\n",
       "      <td>0.605229</td>\n",
       "      <td>0.857516</td>\n",
       "      <td>0.754248</td>\n",
       "      <td>0.632680</td>\n",
       "      <td>0</td>\n",
       "    </tr>\n",
       "    <tr>\n",
       "      <th>3</th>\n",
       "      <td>0.666667</td>\n",
       "      <td>0.698039</td>\n",
       "      <td>0.776471</td>\n",
       "      <td>0.666667</td>\n",
       "      <td>0.698039</td>\n",
       "      <td>0.776471</td>\n",
       "      <td>0.670588</td>\n",
       "      <td>0.701961</td>\n",
       "      <td>0.776471</td>\n",
       "      <td>0.670588</td>\n",
       "      <td>...</td>\n",
       "      <td>0.733333</td>\n",
       "      <td>0.741176</td>\n",
       "      <td>0.800000</td>\n",
       "      <td>0.733333</td>\n",
       "      <td>0.741176</td>\n",
       "      <td>0.800000</td>\n",
       "      <td>0.729412</td>\n",
       "      <td>0.737255</td>\n",
       "      <td>0.796078</td>\n",
       "      <td>0</td>\n",
       "    </tr>\n",
       "    <tr>\n",
       "      <th>4</th>\n",
       "      <td>0.391294</td>\n",
       "      <td>0.408078</td>\n",
       "      <td>0.382353</td>\n",
       "      <td>0.426588</td>\n",
       "      <td>0.443373</td>\n",
       "      <td>0.415922</td>\n",
       "      <td>0.479529</td>\n",
       "      <td>0.488471</td>\n",
       "      <td>0.452078</td>\n",
       "      <td>0.433333</td>\n",
       "      <td>...</td>\n",
       "      <td>0.678196</td>\n",
       "      <td>0.643765</td>\n",
       "      <td>0.511294</td>\n",
       "      <td>0.704784</td>\n",
       "      <td>0.662745</td>\n",
       "      <td>0.536157</td>\n",
       "      <td>0.669255</td>\n",
       "      <td>0.638745</td>\n",
       "      <td>0.484941</td>\n",
       "      <td>0</td>\n",
       "    </tr>\n",
       "    <tr>\n",
       "      <th>5</th>\n",
       "      <td>0.700980</td>\n",
       "      <td>0.807843</td>\n",
       "      <td>0.880392</td>\n",
       "      <td>0.702941</td>\n",
       "      <td>0.811765</td>\n",
       "      <td>0.882353</td>\n",
       "      <td>0.705882</td>\n",
       "      <td>0.815686</td>\n",
       "      <td>0.874510</td>\n",
       "      <td>0.713725</td>\n",
       "      <td>...</td>\n",
       "      <td>0.466667</td>\n",
       "      <td>0.427451</td>\n",
       "      <td>0.185294</td>\n",
       "      <td>0.450000</td>\n",
       "      <td>0.403922</td>\n",
       "      <td>0.194118</td>\n",
       "      <td>0.452941</td>\n",
       "      <td>0.405882</td>\n",
       "      <td>0.184314</td>\n",
       "      <td>0</td>\n",
       "    </tr>\n",
       "    <tr>\n",
       "      <th>6</th>\n",
       "      <td>0.615686</td>\n",
       "      <td>0.690196</td>\n",
       "      <td>0.819608</td>\n",
       "      <td>0.623529</td>\n",
       "      <td>0.690196</td>\n",
       "      <td>0.823529</td>\n",
       "      <td>0.627451</td>\n",
       "      <td>0.690196</td>\n",
       "      <td>0.823529</td>\n",
       "      <td>0.627451</td>\n",
       "      <td>...</td>\n",
       "      <td>0.469900</td>\n",
       "      <td>0.308976</td>\n",
       "      <td>0.172993</td>\n",
       "      <td>0.503922</td>\n",
       "      <td>0.309804</td>\n",
       "      <td>0.168627</td>\n",
       "      <td>0.362536</td>\n",
       "      <td>0.225935</td>\n",
       "      <td>0.080837</td>\n",
       "      <td>0</td>\n",
       "    </tr>\n",
       "    <tr>\n",
       "      <th>7</th>\n",
       "      <td>0.901961</td>\n",
       "      <td>0.905882</td>\n",
       "      <td>0.925490</td>\n",
       "      <td>0.898039</td>\n",
       "      <td>0.905882</td>\n",
       "      <td>0.925490</td>\n",
       "      <td>0.897913</td>\n",
       "      <td>0.905882</td>\n",
       "      <td>0.925490</td>\n",
       "      <td>0.905882</td>\n",
       "      <td>...</td>\n",
       "      <td>0.630488</td>\n",
       "      <td>0.597808</td>\n",
       "      <td>0.343708</td>\n",
       "      <td>0.594941</td>\n",
       "      <td>0.559647</td>\n",
       "      <td>0.351804</td>\n",
       "      <td>0.534558</td>\n",
       "      <td>0.512209</td>\n",
       "      <td>0.295468</td>\n",
       "      <td>0</td>\n",
       "    </tr>\n",
       "    <tr>\n",
       "      <th>8</th>\n",
       "      <td>0.666902</td>\n",
       "      <td>0.705046</td>\n",
       "      <td>0.784314</td>\n",
       "      <td>0.682908</td>\n",
       "      <td>0.710359</td>\n",
       "      <td>0.792157</td>\n",
       "      <td>0.698379</td>\n",
       "      <td>0.724654</td>\n",
       "      <td>0.801176</td>\n",
       "      <td>0.708482</td>\n",
       "      <td>...</td>\n",
       "      <td>0.628016</td>\n",
       "      <td>0.514290</td>\n",
       "      <td>0.431441</td>\n",
       "      <td>0.669732</td>\n",
       "      <td>0.557398</td>\n",
       "      <td>0.455437</td>\n",
       "      <td>0.678458</td>\n",
       "      <td>0.561462</td>\n",
       "      <td>0.463608</td>\n",
       "      <td>0</td>\n",
       "    </tr>\n",
       "    <tr>\n",
       "      <th>9</th>\n",
       "      <td>0.157752</td>\n",
       "      <td>0.176471</td>\n",
       "      <td>0.121569</td>\n",
       "      <td>0.168627</td>\n",
       "      <td>0.188235</td>\n",
       "      <td>0.121569</td>\n",
       "      <td>0.159974</td>\n",
       "      <td>0.177359</td>\n",
       "      <td>0.106771</td>\n",
       "      <td>0.167677</td>\n",
       "      <td>...</td>\n",
       "      <td>0.233366</td>\n",
       "      <td>0.219399</td>\n",
       "      <td>0.142281</td>\n",
       "      <td>0.217595</td>\n",
       "      <td>0.218614</td>\n",
       "      <td>0.139163</td>\n",
       "      <td>0.232261</td>\n",
       "      <td>0.255791</td>\n",
       "      <td>0.173438</td>\n",
       "      <td>0</td>\n",
       "    </tr>\n",
       "  </tbody>\n",
       "</table>\n",
       "<p>10 rows × 67501 columns</p>\n",
       "</div>"
      ],
      "text/plain": [
       "          0         1         2         3         4         5         6  \\\n",
       "0  0.615686  0.658824  0.729412  0.615686  0.658824  0.729412  0.615686   \n",
       "1  0.885935  0.937255  0.988235  0.891647  0.945098  0.994118  0.894118   \n",
       "2  0.884967  0.894118  0.913725  0.882353  0.898039  0.913725  0.870588   \n",
       "3  0.666667  0.698039  0.776471  0.666667  0.698039  0.776471  0.670588   \n",
       "4  0.391294  0.408078  0.382353  0.426588  0.443373  0.415922  0.479529   \n",
       "5  0.700980  0.807843  0.880392  0.702941  0.811765  0.882353  0.705882   \n",
       "6  0.615686  0.690196  0.819608  0.623529  0.690196  0.823529  0.627451   \n",
       "7  0.901961  0.905882  0.925490  0.898039  0.905882  0.925490  0.897913   \n",
       "8  0.666902  0.705046  0.784314  0.682908  0.710359  0.792157  0.698379   \n",
       "9  0.157752  0.176471  0.121569  0.168627  0.188235  0.121569  0.159974   \n",
       "\n",
       "          7         8         9  ...     67491     67492     67493     67494  \\\n",
       "0  0.658824  0.729412  0.619608  ...  0.241137  0.272176  0.024157  0.298961   \n",
       "1  0.947059  0.996078  0.896850  ...  0.732484  0.621830  0.203922  0.687216   \n",
       "2  0.900654  0.901961  0.864052  ...  0.848366  0.712418  0.589542  0.844444   \n",
       "3  0.701961  0.776471  0.670588  ...  0.733333  0.741176  0.800000  0.733333   \n",
       "4  0.488471  0.452078  0.433333  ...  0.678196  0.643765  0.511294  0.704784   \n",
       "5  0.815686  0.874510  0.713725  ...  0.466667  0.427451  0.185294  0.450000   \n",
       "6  0.690196  0.823529  0.627451  ...  0.469900  0.308976  0.172993  0.503922   \n",
       "7  0.905882  0.925490  0.905882  ...  0.630488  0.597808  0.343708  0.594941   \n",
       "8  0.724654  0.801176  0.708482  ...  0.628016  0.514290  0.431441  0.669732   \n",
       "9  0.177359  0.106771  0.167677  ...  0.233366  0.219399  0.142281  0.217595   \n",
       "\n",
       "      67495     67496     67497     67498     67499  Target  \n",
       "0  0.315314  0.030039  0.253863  0.278392  0.058157       0  \n",
       "1  0.560706  0.229922  0.684144  0.566667  0.240667       0  \n",
       "2  0.733333  0.605229  0.857516  0.754248  0.632680       0  \n",
       "3  0.741176  0.800000  0.729412  0.737255  0.796078       0  \n",
       "4  0.662745  0.536157  0.669255  0.638745  0.484941       0  \n",
       "5  0.403922  0.194118  0.452941  0.405882  0.184314       0  \n",
       "6  0.309804  0.168627  0.362536  0.225935  0.080837       0  \n",
       "7  0.559647  0.351804  0.534558  0.512209  0.295468       0  \n",
       "8  0.557398  0.455437  0.678458  0.561462  0.463608       0  \n",
       "9  0.218614  0.139163  0.232261  0.255791  0.173438       0  \n",
       "\n",
       "[10 rows x 67501 columns]"
      ]
     },
     "execution_count": 10,
     "metadata": {},
     "output_type": "execute_result"
    }
   ],
   "source": [
    "#viewing the data frame of the images\n",
    "df = pd.DataFrame(flat_data)\n",
    "df['Target'] = target\n",
    "df.head(10)"
   ]
  },
  {
   "cell_type": "code",
   "execution_count": 11,
   "metadata": {},
   "outputs": [
    {
     "data": {
      "text/plain": [
       "array([[0.61568627, 0.65882353, 0.72941176, ..., 0.25386275, 0.27839216,\n",
       "        0.05815686],\n",
       "       [0.88593464, 0.9372549 , 0.98823529, ..., 0.68414379, 0.56666667,\n",
       "        0.24066667],\n",
       "       [0.88496732, 0.89411765, 0.91372549, ..., 0.85751634, 0.75424837,\n",
       "        0.63267974],\n",
       "       ...,\n",
       "       [0.52460131, 0.49830205, 0.47566153, ..., 0.85338702, 0.66337394,\n",
       "        0.40366153],\n",
       "       [0.07843137, 0.42352941, 0.6745098 , ..., 0.5745098 , 0.49823529,\n",
       "        0.41568627],\n",
       "       [0.19312418, 0.42745098, 0.27649673, ..., 0.40252932, 0.4184542 ,\n",
       "        0.46153917]])"
      ]
     },
     "execution_count": 11,
     "metadata": {},
     "output_type": "execute_result"
    }
   ],
   "source": [
    "flat_data"
   ]
  },
  {
   "cell_type": "code",
   "execution_count": 12,
   "metadata": {},
   "outputs": [
    {
     "name": "stdout",
     "output_type": "stream",
     "text": [
      "[0 0 0 0 0 0 0 0 0 0 0 0 0 0 0 0 0 0 0 0 0 0 0 0 0 0 0 0 0 0 0 0 0 0 0 0 0\n",
      " 0 0 0 0 0 0 0 0 0 0 0 0 0 0 0 0 0 0 0 0 0 0 0 0 0 0 0 0 0 0 0 0 0 0 0 0 0\n",
      " 0 0 0 0 0 0 0 0 0 0 1 1 1 1 1 1 1 1 1 1 1 1 1 1 1 1 1 1 1 1 1 1 1 1 1 1 1\n",
      " 1 1 1 1 1 1 1 1 1 1 1 1 1 1 1 1 1 1 1 1 1 1 1 1 1 1 1 1 1 1 1 1 1 1 1 1 1\n",
      " 1 1 1 1 1 1 1 1 1 1 1 1 1 1 1 1 1 1 1 1 1 1 1 1 1 1 1 1 1 1 1 1 1 1 1 1 1\n",
      " 1 1 1 1 1 1 1 1 1 1]\n"
     ]
    }
   ],
   "source": [
    "print(target)"
   ]
  },
  {
   "cell_type": "code",
   "execution_count": 13,
   "metadata": {},
   "outputs": [
    {
     "data": {
      "text/plain": [
       "(array([0, 1]), array([ 84, 111], dtype=int64))"
      ]
     },
     "execution_count": 13,
     "metadata": {},
     "output_type": "execute_result"
    }
   ],
   "source": [
    "np.unique(target,return_counts=True)\n"
   ]
  },
  {
   "cell_type": "code",
   "execution_count": 14,
   "metadata": {},
   "outputs": [
    {
     "data": {
      "text/plain": [
       "<BarContainer object of 2 artists>"
      ]
     },
     "execution_count": 14,
     "metadata": {},
     "output_type": "execute_result"
    },
    {
     "data": {
      "image/png": "[encoded data removed]",
      "text/plain": [
       "<Figure size 432x288 with 1 Axes>"
      ]
     },
     "metadata": {
      "needs_background": "light"
     },
     "output_type": "display_data"
    }
   ],
   "source": [
    "unique,count = np.unique(target,return_counts=True)\n",
    "plt.bar(CATEGORIES, count)"
   ]
  },
  {
   "cell_type": "code",
   "execution_count": 15,
   "metadata": {},
   "outputs": [
    {
     "name": "stdout",
     "output_type": "stream",
     "text": [
      "(195, 67500)\n",
      "(195,)\n"
     ]
    }
   ],
   "source": [
    "print(flat_data.shape)\n",
    "print(target.shape)"
   ]
  },
  {
   "cell_type": "code",
   "execution_count": 16,
   "metadata": {},
   "outputs": [],
   "source": [
    "from sklearn.model_selection import train_test_split\n",
    "x_train,x_test,y_train,y_test = train_test_split(flat_data,target,test_size=0.2,random_state=0)"
   ]
  },
  {
   "cell_type": "code",
   "execution_count": 17,
   "metadata": {},
   "outputs": [
    {
     "data": {
      "text/plain": [
       "GridSearchCV(estimator=SVC(probability=True),\n",
       "             param_grid=[{'C': [1, 10, 100, 1000], 'kernel': ['linear']},\n",
       "                         {'C': [1, 10, 100, 1000], 'gamma': [0.001, 0.0001],\n",
       "                          'kernel': ['rbf']}])"
      ]
     },
     "execution_count": 17,
     "metadata": {},
     "output_type": "execute_result"
    }
   ],
   "source": [
    "#SVM algorithm\n",
    "#grid search CV - parameters in SVM are proper\n",
    "from sklearn.model_selection import GridSearchCV\n",
    "from sklearn import svm\n",
    "param_grid=[\n",
    "            {'C':[1,10,100,1000],'kernel':['linear']},\n",
    "            {'C':[1,10,100,1000],'gamma':[0.001,0.0001],'kernel':['rbf']}]\n",
    "\n",
    "svc=svm.SVC(probability=True)\n",
    "gef=GridSearchCV(svc,param_grid)\n",
    "gef.fit(x_train,y_train)"
   ]
  },
  {
   "cell_type": "code",
   "execution_count": 18,
   "metadata": {},
   "outputs": [
    {
     "name": "stdout",
     "output_type": "stream",
     "text": [
      "[1 0 1 1 0 0 0 1 1 0 0 0 1 1 1 1 1 0 0 0 0 1 1 1 1 0 1 1 0 0 0 1 0 0 1 0 1\n",
      " 1 1]\n"
     ]
    }
   ],
   "source": [
    "y_pred=gef.predict(x_test)\n",
    "print(y_pred)"
   ]
  },
  {
   "cell_type": "code",
   "execution_count": 19,
   "metadata": {
    "scrolled": true
   },
   "outputs": [
    {
     "name": "stdout",
     "output_type": "stream",
     "text": [
      "[0 0 0 1 1 1 1 1 0 0 0 0 1 1 1 1 1 0 0 1 0 1 1 1 0 0 1 1 1 0 0 1 0 0 0 0 1\n",
      " 1 1]\n"
     ]
    }
   ],
   "source": [
    "print(y_test)"
   ]
  },
  {
   "cell_type": "code",
   "execution_count": 20,
   "metadata": {},
   "outputs": [],
   "source": [
    "from sklearn.metrics import accuracy_score, confusion_matrix, classification_report"
   ]
  },
  {
   "cell_type": "code",
   "execution_count": 21,
   "metadata": {},
   "outputs": [
    {
     "data": {
      "text/plain": [
       "0.7435897435897436"
      ]
     },
     "execution_count": 21,
     "metadata": {},
     "output_type": "execute_result"
    }
   ],
   "source": [
    "accuracy_score(y_pred,y_test)"
   ]
  },
  {
   "cell_type": "code",
   "execution_count": 22,
   "metadata": {},
   "outputs": [
    {
     "data": {
      "text/plain": [
       "array([[13,  5],\n",
       "       [ 5, 16]], dtype=int64)"
      ]
     },
     "execution_count": 22,
     "metadata": {},
     "output_type": "execute_result"
    }
   ],
   "source": [
    "confusion_matrix(y_pred,y_test)"
   ]
  },
  {
   "cell_type": "code",
   "execution_count": 23,
   "metadata": {},
   "outputs": [
    {
     "name": "stdout",
     "output_type": "stream",
     "text": [
      "              precision    recall  f1-score   support\n",
      "\n",
      "           0       0.72      0.72      0.72        18\n",
      "           1       0.76      0.76      0.76        21\n",
      "\n",
      "    accuracy                           0.74        39\n",
      "   macro avg       0.74      0.74      0.74        39\n",
      "weighted avg       0.74      0.74      0.74        39\n",
      "\n"
     ]
    }
   ],
   "source": [
    "print(classification_report(y_pred,y_test))"
   ]
  },
  {
   "cell_type": "code",
   "execution_count": 24,
   "metadata": {},
   "outputs": [
    {
     "name": "stdout",
     "output_type": "stream",
     "text": [
      "KFold(n_splits=10, random_state=1, shuffle=True)\n"
     ]
    }
   ],
   "source": [
    "#cross-validation\n",
    "from sklearn.model_selection import KFold\n",
    "kf = KFold(n_splits=10, random_state=1, shuffle=True)\n",
    "print(kf)"
   ]
  },
  {
   "cell_type": "code",
   "execution_count": 25,
   "metadata": {},
   "outputs": [
    {
     "name": "stdout",
     "output_type": "stream",
     "text": [
      "[  0   1   2   3   4   6   7   8   9  10  11  12  13  15  16  17  18  19\n",
      "  20  21  22  23  24  25  26  27  28  29  30  32  33  34  36  37  38  39\n",
      "  41  42  43  44  45  46  47  48  49  50  52  54  55  56  57  58  59  60\n",
      "  61  62  63  64  65  66  67  68  69  70  71  72  73  74  76  77  79  80\n",
      "  81  82  83  84  85  86  87  88  91  93  94  95  96  97  98  99 100 101\n",
      " 102 103 104 105 106 107 108 110 111 112 113 114 115 116 118 119 120 121\n",
      " 122 123 124 125 126 127 128 129 130 131 132 133 134 135 136 137 138 139\n",
      " 140 141 142 143 144 145 147 148 149 151 152 153 154 155] [  5  14  31  35  40  51  53  75  78  89  90  92 109 117 146 150]\n",
      "[  0   1   2   3   4   5   6   7   8   9  10  11  12  13  14  15  17  18\n",
      "  20  21  22  23  24  25  26  27  28  30  31  32  33  34  35  36  37  38\n",
      "  39  40  41  43  45  46  47  48  49  50  51  52  53  54  55  57  58  59\n",
      "  60  61  62  63  64  65  66  67  68  70  71  72  73  74  75  76  77  78\n",
      "  79  80  81  82  83  84  85  86  87  88  89  90  91  92  95  96  97  98\n",
      " 100 101 102 103 104 106 107 108 109 110 111 112 113 114 115 116 117 118\n",
      " 119 120 121 124 125 126 127 128 129 130 131 132 133 134 135 136 137 139\n",
      " 140 141 144 145 146 147 148 149 150 151 152 153 154 155] [ 16  19  29  42  44  56  69  93  94  99 105 122 123 138 142 143]\n",
      "[  0   1   2   3   4   5   6   7   8   9  10  11  12  13  14  15  16  18\n",
      "  19  20  21  22  23  24  25  26  27  29  30  31  32  34  35  36  37  38\n",
      "  39  40  41  42  43  44  45  46  47  48  49  50  51  52  53  55  56  57\n",
      "  60  61  62  63  64  65  67  68  69  70  71  72  74  75  76  77  78  79\n",
      "  80  81  82  83  84  85  86  87  88  89  90  91  92  93  94  95  96  97\n",
      "  98  99 100 101 102 103 105 106 107 108 109 110 112 113 114 115 116 117\n",
      " 118 119 120 121 122 123 126 128 129 130 132 133 134 135 136 137 138 139\n",
      " 140 142 143 144 145 146 147 149 150 151 152 153 154 155] [ 17  28  33  54  58  59  66  73 104 111 124 125 127 131 141 148]\n",
      "[  0   1   2   3   5   6   7   8   9  10  13  14  15  16  17  19  20  21\n",
      "  22  23  24  25  26  27  28  29  30  31  32  33  34  35  37  38  40  41\n",
      "  42  43  44  46  47  49  50  51  52  53  54  55  56  57  58  59  60  61\n",
      "  62  63  64  65  66  67  68  69  70  71  72  73  74  75  76  78  79  80\n",
      "  81  82  83  84  86  87  88  89  90  91  92  93  94  95  96  97  98  99\n",
      " 100 101 103 104 105 106 107 108 109 111 112 113 114 115 116 117 118 119\n",
      " 121 122 123 124 125 127 128 129 130 131 132 133 134 136 137 138 139 140\n",
      " 141 142 143 144 145 146 147 148 150 151 152 153 154 155] [  4  11  12  18  36  39  45  48  77  85 102 110 120 126 135 149]\n",
      "[  1   3   4   5   7   8   9  10  11  12  13  14  15  16  17  18  19  20\n",
      "  21  22  23  24  25  26  27  28  29  30  31  32  33  34  35  36  37  38\n",
      "  39  40  41  42  43  44  45  47  48  49  50  51  52  53  54  56  57  58\n",
      "  59  60  61  63  64  66  67  68  69  70  71  72  73  75  76  77  78  79\n",
      "  80  82  83  85  86  87  88  89  90  91  92  93  94  96  98  99 100 101\n",
      " 102 103 104 105 106 108 109 110 111 112 114 115 117 118 120 121 122 123\n",
      " 124 125 126 127 128 129 130 131 132 133 134 135 136 137 138 139 140 141\n",
      " 142 143 144 145 146 147 148 149 150 151 152 153 154 155] [  0   2   6  46  55  62  65  74  81  84  95  97 107 113 116 119]\n",
      "[  0   1   2   3   4   5   6   7   8  11  12  13  14  15  16  17  18  19\n",
      "  20  21  22  24  25  26  28  29  30  31  33  35  36  37  39  40  41  42\n",
      "  43  44  45  46  47  48  49  50  51  52  53  54  55  56  57  58  59  60\n",
      "  61  62  63  64  65  66  68  69  70  71  72  73  74  75  76  77  78  79\n",
      "  80  81  82  84  85  86  87  88  89  90  92  93  94  95  96  97  98  99\n",
      " 101 102 104 105 106 107 108 109 110 111 112 113 115 116 117 118 119 120\n",
      " 121 122 123 124 125 126 127 128 129 131 132 133 134 135 136 137 138 139\n",
      " 140 141 142 143 144 145 146 147 148 149 150 152 153 154] [  9  10  23  27  32  34  38  67  83  91 100 103 114 130 151 155]\n",
      "[  0   1   2   3   4   5   6   7   8   9  10  11  12  13  14  16  17  18\n",
      "  19  20  21  22  23  24  25  27  28  29  30  31  32  33  34  35  36  37\n",
      "  38  39  40  42  44  45  46  47  48  49  50  51  53  54  55  56  57  58\n",
      "  59  60  61  62  63  65  66  67  68  69  70  71  72  73  74  75  77  78\n",
      "  79  81  83  84  85  86  88  89  90  91  92  93  94  95  96  97  99 100\n",
      " 101 102 103 104 105 106 107 109 110 111 113 114 115 116 117 118 119 120\n",
      " 121 122 123 124 125 126 127 128 129 130 131 132 133 134 135 137 138 139\n",
      " 140 141 142 143 144 146 147 148 149 150 151 152 153 154 155] [ 15  26  41  43  52  64  76  80  82  87  98 108 112 136 145]\n",
      "[  0   1   2   4   5   6   7   8   9  10  11  12  13  14  15  16  17  18\n",
      "  19  20  22  23  25  26  27  28  29  31  32  33  34  35  36  37  38  39\n",
      "  40  41  42  43  44  45  46  48  50  51  52  53  54  55  56  57  58  59\n",
      "  60  61  62  63  64  65  66  67  68  69  71  72  73  74  75  76  77  78\n",
      "  79  80  81  82  83  84  85  86  87  88  89  90  91  92  93  94  95  96\n",
      "  97  98  99 100 101 102 103 104 105 107 108 109 110 111 112 113 114 116\n",
      " 117 119 120 122 123 124 125 126 127 128 129 130 131 133 134 135 136 137\n",
      " 138 139 140 141 142 143 144 145 146 148 149 150 151 152 155] [  3  21  24  30  47  49  70 106 115 118 121 132 147 153 154]\n",
      "[  0   2   3   4   5   6   9  10  11  12  14  15  16  17  18  19  20  21\n",
      "  23  24  25  26  27  28  29  30  31  32  33  34  35  36  37  38  39  40\n",
      "  41  42  43  44  45  46  47  48  49  50  51  52  53  54  55  56  58  59\n",
      "  62  64  65  66  67  69  70  71  72  73  74  75  76  77  78  79  80  81\n",
      "  82  83  84  85  87  89  90  91  92  93  94  95  97  98  99 100 101 102\n",
      " 103 104 105 106 107 108 109 110 111 112 113 114 115 116 117 118 119 120\n",
      " 121 122 123 124 125 126 127 129 130 131 132 133 134 135 136 137 138 139\n",
      " 140 141 142 143 144 145 146 147 148 149 150 151 153 154 155] [  1   7   8  13  22  57  60  61  63  68  86  88  96 128 152]\n",
      "[  0   1   2   3   4   5   6   7   8   9  10  11  12  13  14  15  16  17\n",
      "  18  19  21  22  23  24  26  27  28  29  30  31  32  33  34  35  36  38\n",
      "  39  40  41  42  43  44  45  46  47  48  49  51  52  53  54  55  56  57\n",
      "  58  59  60  61  62  63  64  65  66  67  68  69  70  73  74  75  76  77\n",
      "  78  80  81  82  83  84  85  86  87  88  89  90  91  92  93  94  95  96\n",
      "  97  98  99 100 102 103 104 105 106 107 108 109 110 111 112 113 114 115\n",
      " 116 117 118 119 120 121 122 123 124 125 126 127 128 130 131 132 135 136\n",
      " 138 141 142 143 145 146 147 148 149 150 151 152 153 154 155] [ 20  25  37  50  71  72  79 101 129 133 134 137 139 140 144]\n"
     ]
    }
   ],
   "source": [
    "#Training and test data split\n",
    "for train, test in kf.split(x_train):\n",
    "    print(\"%s %s\" % (train, test))"
   ]
  },
  {
   "cell_type": "code",
   "execution_count": 26,
   "metadata": {},
   "outputs": [
    {
     "name": "stdout",
     "output_type": "stream",
     "text": [
      "[0.875      0.8125     0.75       0.8125     0.6875     0.5625\n",
      " 0.53333333 0.66666667 0.53333333 0.66666667]\n"
     ]
    }
   ],
   "source": [
    "from sklearn.model_selection import cross_val_score\n",
    "from sklearn.metrics import accuracy_score\n",
    "abc=svm.SVC(kernel='rbf', C=1, gamma='scale', random_state=0)\n",
    "accuracy = cross_val_score(abc, x_train, y_train, scoring='accuracy', cv = 10)\n",
    "print(accuracy)\n"
   ]
  },
  {
   "cell_type": "code",
   "execution_count": 27,
   "metadata": {},
   "outputs": [
    {
     "name": "stdout",
     "output_type": "stream",
     "text": [
      "0.6900000000000001\n"
     ]
    }
   ],
   "source": [
    "#Mean accuracy score\n",
    "mean=np.mean(accuracy)\n",
    "print(mean)"
   ]
  },
  {
   "cell_type": "code",
   "execution_count": 28,
   "metadata": {},
   "outputs": [
    {
     "data": {
      "text/plain": [
       "array([0.71031746, 0.6025641 , 0.70726496, 0.60897436, 0.70726496])"
      ]
     },
     "execution_count": 28,
     "metadata": {},
     "output_type": "execute_result"
    }
   ],
   "source": [
    "from sklearn.model_selection import cross_validate\n",
    "from sklearn.metrics import recall_score\n",
    "scoring = ['precision_macro', 'recall_macro']\n",
    "clf = svm.SVC(kernel='linear', C=1, random_state=0)\n",
    "scores = cross_validate(clf, x_train, y_train, scoring=scoring)\n",
    "scoring = ['precision_macro', 'recall_macro']\n",
    "scores['test_recall_macro']\n",
    "\n"
   ]
  },
  {
   "cell_type": "code",
   "execution_count": 29,
   "metadata": {},
   "outputs": [
    {
     "name": "stdout",
     "output_type": "stream",
     "text": [
      "[1 0 1 1 0 0 1 1 1 0 0 0 1 1 1 1 1 0 0 1 0 1 1 1 1 1 1 1 0 0 0 1 0 1 1 0 1\n",
      " 1 1]\n"
     ]
    }
   ],
   "source": [
    "abc.fit(x_train,y_train)\n",
    "ypred=abc.predict(x_test)\n",
    "print(ypred)"
   ]
  },
  {
   "cell_type": "code",
   "execution_count": 30,
   "metadata": {},
   "outputs": [],
   "source": [
    "import pickle\n",
    "pickle.dump(gef,open('img_model.p','wb'))"
   ]
  },
  {
   "cell_type": "code",
   "execution_count": 33,
   "metadata": {},
   "outputs": [
    {
     "name": "stdout",
     "output_type": "stream",
     "text": [
      "Enter your URL: https://i.ytimg.com/vi/FCuS8H61-sE/maxresdefault.jpg\n",
      "(720, 1280, 3)\n",
      "PREDICTED OUTPUT: [1]\n"
     ]
    },
    {
     "data": {
      "image/png": "[encoded data removed]",
      "text/plain": [
       "<Figure size 432x288 with 1 Axes>"
      ]
     },
     "metadata": {
      "needs_background": "light"
     },
     "output_type": "display_data"
    }
   ],
   "source": [
    "model=pickle.load(open('img_model.p','rb'))\n",
    "flat_data=[]\n",
    "url=input('Enter your URL: ')\n",
    "img = imread(url)\n",
    "img_resized = resize(img,(150,150,3))\n",
    "flat_data.append(img_resized.flatten())\n",
    "flat_data=np.array(flat_data)\n",
    "print(img.shape)\n",
    "plt.imshow(img_resized)\n",
    "y_output=model.predict(flat_data)\n",
    "print(f'PREDICTED OUTPUT: {y_output}')\n"
   ]
  },
  {
   "cell_type": "code",
   "execution_count": null,
   "metadata": {},
   "outputs": [],
   "source": []
  }
 ],
 "metadata": {
  "kernelspec": {
   "display_name": "Python 3",
   "language": "python",
   "name": "python3"
  },
  "language_info": {
   "codemirror_mode": {
    "name": "ipython",
    "version": 3
   },
   "file_extension": ".py",
   "mimetype": "text/x-python",
   "name": "python",
   "nbconvert_exporter": "python",
   "pygments_lexer": "ipython3",
   "version": "3.8.5"
  }
 },
 "nbformat": 4,
 "nbformat_minor": 4
}
